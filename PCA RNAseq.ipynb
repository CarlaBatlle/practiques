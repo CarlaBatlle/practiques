{
 "cells": [
  {
   "cell_type": "code",
   "execution_count": null,
   "id": "bfac42d6-c018-45d3-b3be-2249db4f154a",
   "metadata": {},
   "outputs": [],
   "source": [
    "# PROVA 1 ANÀLISI DE DADES"
   ]
  },
  {
   "cell_type": "code",
   "execution_count": 23,
   "id": "b5e51440-58b1-40bb-bdf4-41dde8f3eb7f",
   "metadata": {},
   "outputs": [],
   "source": [
    "# Importem les biblioteques necessàries\n",
    "import pandas as pd\n",
    "import numpy as np\n",
    "import matplotlib.pyplot as plt\n",
    "from sklearn.decomposition import PCA\n",
    "from sklearn.preprocessing import StandardScaler"
   ]
  },
  {
   "cell_type": "code",
   "execution_count": 24,
   "id": "d2d76853",
   "metadata": {},
   "outputs": [],
   "source": [
    "#Carreguem dades\n",
    "rnaseq_data = pd.read_csv('/Users/carlabatlle/Documents/practiques/dades1/unproc_rnaseq.csv')\n",
    "pbrna_beta_data = pd.read_csv('/Users/carlabatlle/Documents/practiques/dades1/unproc_pbrna_Beta.csv')\n",
    "pbrna_alpha_data = pd.read_csv('/Users/carlabatlle/Documents/practiques/dades1/unproc_pbrna_Alpha.csv')"
   ]
  },
  {
   "cell_type": "code",
   "execution_count": 25,
   "id": "14a2498d",
   "metadata": {},
   "outputs": [
    {
     "name": "stdout",
     "output_type": "stream",
     "text": [
      "RNASeq Data Head:\n",
      "   feature_id  R032  R036  R047  R049  R050  R051  R054  R055  R056  ...  \\\n",
      "0           1     0     0    15     3     0     2     0     9     3  ...   \n",
      "1          10     0     0     0     4     0     0     0     0     0  ...   \n",
      "2         100     2     0    93   102    59    88   116    37    71  ...   \n",
      "3        1000     0     0   901    58   511   140   212  1037   233  ...   \n",
      "4       10000    35    18  1682   835   963   719   619  1391   813  ...   \n",
      "\n",
      "   R412  R413  R416  R417  R418  R419  R420  R421  R424  R425  \n",
      "0     5    17     6    24    34    36     4    12    11    30  \n",
      "1     1     0     0     0     0     0     0     0     0     0  \n",
      "2    27    41    31    30    42    16    28    42    48    31  \n",
      "3   272   384   327   393   407   318   424   253   357   391  \n",
      "4   884  1275  1395  1644  1190  2005  1478  1634  1079  1562  \n",
      "\n",
      "[5 rows x 126 columns]\n",
      "Alpha Data Head:\n",
      "        feature_id  R231  R233  R232  R235  R238  R237  R239  R240  R244  ...  \\\n",
      "0  ENSG00000284662     0     0     0     0     0     0     0     0     0  ...   \n",
      "1  ENSG00000186827     0     0     0     0     0     0     0     0     0  ...   \n",
      "2  ENSG00000186891     0   430     0    25     0    33   163   169     3  ...   \n",
      "3  ENSG00000160072    59    78     5   195     0   300    96   312   168  ...   \n",
      "4  ENSG00000041988   172   522   121   148    16   270   295   306   302  ...   \n",
      "\n",
      "   R349  R352  R353  R372  R370  R366  R367  R373  R364  R365  \n",
      "0     0     0     0     0     0     0     0     1     0     0  \n",
      "1     0     4     0     0     0     0     0     0     0     0  \n",
      "2     1    15   118   382    16   152    16     2     5    73  \n",
      "3     0     1   343   758    54   520   155    45    34   420  \n",
      "4     0    41   335   574   230   137    55   236   211   277  \n",
      "\n",
      "[5 rows x 48 columns]\n",
      "Beta Data Head:\n",
      "        feature_id  R231  R233  R232  R235  R238  R237  R239  R240  R244  ...  \\\n",
      "0  ENSG00000284662     0     0     0     0     0     0     0     0     0  ...   \n",
      "1  ENSG00000186827     0     0     0     0     0     0     0     0     0  ...   \n",
      "2  ENSG00000186891     0   430     0    25     0    33   163   169     3  ...   \n",
      "3  ENSG00000160072    59    78     5   195     0   300    96   312   168  ...   \n",
      "4  ENSG00000041988   172   522   121   148    16   270   295   306   302  ...   \n",
      "\n",
      "   R349  R352  R353  R372  R370  R366  R367  R373  R364  R365  \n",
      "0     0     0     0     0     0     0     0     1     0     0  \n",
      "1     0     4     0     0     0     0     0     0     0     0  \n",
      "2     1    15   118   382    16   152    16     2     5    73  \n",
      "3     0     1   343   758    54   520   155    45    34   420  \n",
      "4     0    41   335   574   230   137    55   236   211   277  \n",
      "\n",
      "[5 rows x 48 columns]\n"
     ]
    }
   ],
   "source": [
    "# Exploració inicial\n",
    "print(\"RNASeq Data Head:\")\n",
    "print(rnaseq_data.head())\n",
    "print(\"Alpha Data Head:\")\n",
    "print(pbrna_alpha_data.head())\n",
    "print(\"Beta Data Head:\")\n",
    "print(pbrna_alpha_data.head())"
   ]
  }
 ],
 "metadata": {
  "kernelspec": {
   "display_name": "Python 3",
   "language": "python",
   "name": "python3"
  },
  "language_info": {
   "codemirror_mode": {
    "name": "ipython",
    "version": 3
   },
   "file_extension": ".py",
   "mimetype": "text/x-python",
   "name": "python",
   "nbconvert_exporter": "python",
   "pygments_lexer": "ipython3",
   "version": "3.10.7"
  }
 },
 "nbformat": 4,
 "nbformat_minor": 5
}
