{
 "cells": [
  {
   "cell_type": "code",
   "execution_count": null,
   "id": "bfac42d6-c018-45d3-b3be-2249db4f154a",
   "metadata": {},
   "outputs": [],
   "source": [
    "# PROVA 1 ANÀLISI DE DADES PCA"
   ]
  },
  {
   "cell_type": "code",
   "execution_count": 66,
   "id": "b5e51440-58b1-40bb-bdf4-41dde8f3eb7f",
   "metadata": {},
   "outputs": [],
   "source": [
    "# Importem les biblioteques necessàries\n",
    "import pandas as pd\n",
    "import numpy as np\n",
    "import matplotlib.pyplot as plt\n",
    "from sklearn.decomposition import PCA\n",
    "from sklearn.preprocessing import StandardScaler"
   ]
  },
  {
   "cell_type": "code",
   "execution_count": 76,
   "id": "d2d76853",
   "metadata": {},
   "outputs": [],
   "source": [
    "#Carreguem dades\n",
    "rnaseq_un = pd.read_csv('/Users/carlabatlle/Documents/practiques/data/unproc_rnaseq.csv')\n",
    "pbrna_beta_un = pd.read_csv('/Users/carlabatlle/Documents/practiques/data/unproc_pbrna_Beta.csv')\n",
    "pbrna_alpha_un = pd.read_csv('/Users/carlabatlle/Documents/practiques/data/unproc_pbrna_Alpha.csv')\n",
    "rnaseq_p = pd.read_csv('/Users/carlabatlle/Documents/practiques/data/proc_rnaseq.csv')\n",
    "pbrna_beta_p = pd.read_csv('/Users/carlabatlle/Documents/practiques/data/proc_pbrna_Beta.csv')\n",
    "pbrna_alpha_p = pd.read_csv('/Users/carlabatlle/Documents/practiques/data/proc_pbrna_Alpha.csv')\n",
    "donor_data = pd.read_csv('/Users/carlabatlle/Documents/practiques/data/donor.csv')\n"
   ]
  },
  {
   "cell_type": "code",
   "execution_count": 120,
   "id": "2e6d62a0",
   "metadata": {},
   "outputs": [
    {
     "name": "stderr",
     "output_type": "stream",
     "text": [
      "/var/folders/b8/rdg06f9d2dq8b5jy2qvvln500000gn/T/ipykernel_1672/370467256.py:17: FutureWarning: A value is trying to be set on a copy of a DataFrame or Series through chained assignment using an inplace method.\n",
      "The behavior will change in pandas 3.0. This inplace method will never work because the intermediate object on which we are setting values always behaves as a copy.\n",
      "\n",
      "For example, when doing 'df[col].method(value, inplace=True)', try using 'df.method({col: value}, inplace=True)' or df[col] = df[col].method(value) instead, to perform the operation inplace on the original object.\n",
      "\n",
      "\n",
      "  merged_data[\"Condició\"].fillna(\"sa\", inplace=True)\n"
     ]
    }
   ],
   "source": [
    "#Tractament de dades sense funció \n",
    "\n",
    "pbrna_beta_un = pd.read_csv('/Users/carlabatlle/Documents/practiques/data/unproc_pbrna_Beta.csv')\n",
    "donor_data = pd.read_csv('/Users/carlabatlle/Documents/practiques/data/donor.csv')\n",
    "pbrna_beta_un.set_index(\"feature_id\", inplace=True)\n",
    "pbrna_beta_un_t = pbrna_beta_un.T\n",
    "\n",
    "pbrna_beta_un_t.index.name = \"record_id\"\n",
    "\n",
    "merged_data = pbrna_beta_un_t.merge(\n",
    "    donor_data[[\"record_id\", \"diagnosis\"]],  \n",
    "    on=\"record_id\",                           \n",
    "    how=\"left\"                                \n",
    ")\n",
    "\n",
    "merged_data.rename(columns={\"diagnosis\": \"Condició\"}, inplace=True)\n",
    "merged_data[\"Condició\"].fillna(\"sa\", inplace=True)\n",
    "merged_data.set_index('record_id', inplace=True)\n",
    "\n",
    "\n",
    "\n",
    "\n"
   ]
  },
  {
   "cell_type": "code",
   "execution_count": 121,
   "id": "c71a8f5e",
   "metadata": {},
   "outputs": [],
   "source": [
    "#FUNCIO TRACTAMENT DADES INICIALS \n",
    "\n",
    "import pandas as pd\n",
    "\n",
    "def process_pbrna_data(pbrna_file_path, donor_file_path, diagnosis_col=\"diagnosis\", condition_col=\"Condició\", default_condition=\"sa\"):\n",
    "\n",
    "    pbrna_beta_un = pd.read_csv(pbrna_file_path)\n",
    "    donor_data = pd.read_csv(donor_file_path)\n",
    "    \n",
    "    # Estableix 'feature_id' com a índex i transposa el DataFrame\n",
    "    pbrna_beta_un.set_index(\"feature_id\", inplace=True)\n",
    "    pbrna_beta_un_t = pbrna_beta_un.T\n",
    "    pbrna_beta_un_t.index.name = \"record_id\"\n",
    "\n",
    "    # Combina les dades amb la informació de diagnòstic\n",
    "    merged_data = pbrna_beta_un_t.merge(\n",
    "        donor_data[[\"record_id\", diagnosis_col]],  \n",
    "        on=\"record_id\",                           \n",
    "        how=\"left\"                                \n",
    "    )\n",
    "\n",
    "    merged_data.rename(columns={diagnosis_col: condition_col}, inplace=True)\n",
    "    merged_data[condition_col].fillna(\"SA\", inplace=True)\n",
    "    merged_data.set_index('record_id', inplace=True)\n",
    "\n",
    "    return merged_data\n"
   ]
  },
  {
   "cell_type": "code",
   "execution_count": 122,
   "id": "7491eea6",
   "metadata": {},
   "outputs": [
    {
     "name": "stderr",
     "output_type": "stream",
     "text": [
      "/var/folders/b8/rdg06f9d2dq8b5jy2qvvln500000gn/T/ipykernel_1672/3306132203.py:23: FutureWarning: A value is trying to be set on a copy of a DataFrame or Series through chained assignment using an inplace method.\n",
      "The behavior will change in pandas 3.0. This inplace method will never work because the intermediate 