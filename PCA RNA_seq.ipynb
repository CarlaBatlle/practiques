{
 "cells": [
  {
   "cell_type": "code",
   "execution_count": null,
   "id": "bfac42d6-c018-45d3-b3be-2249db4f154a",
   "metadata": {},
   "outputs": [],
   "source": [
    "# PROVA 1 ANÀLISI DE DADES PCA"
   ]
  },
  {
   "cell_type": "code",
   "execution_count": 66,
   "id": "b5e51440-58b1-40bb-bdf4-41dde8f3eb7f",
   "metadata": {},
   "outputs": [],
   "source": [
    "# Importem les biblioteques necessàries\n",
    "import pandas as pd\n",
    "import numpy as np\n",
    "import matplotlib.pyplot as plt\n",
    "from sklearn.decomposition import PCA\n",
    "from sklearn.preprocessing import StandardScaler"
   ]
  },
  {
   "cell_type": "code",
   "execution_count": 76,
   "id": "d2d76853",
   "metadata": {},
   "outputs": [],
   "source": [
    "#Carreguem dades\n",
    "rnaseq_un = pd.read_csv('/Users/carlabatlle/Documents/practiques/data/unproc_rnaseq.csv')\n",
    "pbrna_beta_un = pd.read_csv('/Users/carlabatlle/Documents/practiques/data/unproc_pbrna_Beta.csv')\n",
    "pbrna_alpha_un = pd.read_csv('/Users/carlabatlle/Documents/practiques/data/unproc_pbrna_Alpha.csv')\n",
    "rnaseq_p = pd.read_csv('/Users/carlabatlle/Documents/practiques/data/proc_rnaseq.csv')\n",
    "pbrna_beta_p = pd.read_csv('/Users/carlabatlle/Documents/practiques/data/proc_pbrna_Beta.csv')\n",
    "pbrna_alpha_p = pd.read_csv('/Users/carlabatlle/Documents/practiques/data/proc_pbrna_Alpha.csv')\n",
    "donor_data = pd.read_csv('/Users/carlabatlle/Documents/practiques/data/donor.csv')\n"
   ]
  },
  {
   "cell_type": "code",
   "execution_count": 120,
   "id": "2e6d62a0",
   "metadata": {},
   "outputs": [
    {
     "name": "stderr",
     "output_type": "stream",
     "text": [
      "/var/folders/b8/rdg06f9d2dq8b5jy2qvvln500000gn/T/ipykernel_1672/370467256.py:17: FutureWarning: A value is trying to be set on a copy of a DataFrame or Series through chained assignment using an inplace method.\n",
      "The behavior will change in pandas 3.0. This inplace method will never work because the intermediate object on which we are setting values always behaves as a copy.\n",
      "\n",
      "For example, when doing 'df[col].method(value, inplace=True)', try using 'df.method({col: value}, inplace=True)' or df[col] = df[col].method(value) instead, to perform the operation inplace on the original object.\n",
      "\n",
      "\n",
      "  merged_data[\"Condició\"].fillna(\"sa\", inplace=True)\n"
     ]
    }
   ],
   "source": [
    "#Tractament de dades sense funció \n",
    "\n",
    "pbrna_beta_un = pd.read_csv('/Users/carlabatlle/Documents/practiques/data/unproc_pbrna_Beta.csv')\n",
    "donor_data = pd.read_csv('/Users/carlabatlle/Documents/practiques/data/donor.csv')\n",
    "pbrna_beta_un.set_index(\"feature_id\", inplace=True)\n",
    "pbrna_beta_un_t = pbrna_beta_un.T\n",
    "\n",
    "pbrna_beta_un_t.index.name = \"record_id\"\n",
    "\n",
    "merged_data = pbrna_beta_un_t.merge(\n",
    "    donor_data[[\"record_id\", \"diagnosis\"]],  \n",
    "    on=\"record_id\",                           \n",
    "    how=\"left\"                                \n",
    ")\n",
    "\n",
    "merged_data.rename(columns={\"diagnosis\": \"Condició\"}, inplace=True)\n",
    "merged_data[\"Condició\"].fillna(\"sa\", inplace=True)\n",
    "merged_data.set_index('record_id', inplace=True)\n",
    "\n",
    "\n",
    "\n",
    "\n"
   ]
  },
  {
   "cell_type": "code",
   "execution_count": 121,
   "id": "c71a8f5e",
   "metadata": {},
   "outputs": [],
   "source": [
    "#FUNCIO TRACTAMENT DADES INICIALS \n",
    "\n",
    "import pandas as pd\n",
    "\n",
    "def process_pbrna_data(pbrna_file_path, donor_file_path, diagnosis_col=\"diagnosis\", condition_col=\"Condició\", default_condition=\"sa\"):\n",
    "\n",
    "    pbrna_beta_un = pd.read_csv(pbrna_file_path)\n",
    "    donor_data = pd.read_csv(donor_file_path)\n",
    "    \n",
    "    # Estableix 'feature_id' com a índex i transposa el DataFrame\n",
    "    pbrna_beta_un.set_index(\"feature_id\", inplace=True)\n",
    "    pbrna_beta_un_t = pbrna_beta_un.T\n",
    "    pbrna_beta_un_t.index.name = \"record_id\"\n",
    "\n",
    "    # Combina les dades amb la informació de diagnòstic\n",
    "    merged_data = pbrna_beta_un_t.merge(\n",
    "        donor_data[[\"record_id\", diagnosis_col]],  \n",
    "        on=\"record_id\",                           \n",
    "        how=\"left\"                                \n",
    "    )\n",
    "\n",
    "    merged_data.rename(columns={diagnosis_col: condition_col}, inplace=True)\n",
    "    merged_data[condition_col].fillna(\"SA\", inplace=True)\n",
    "    merged_data.set_index('record_id', inplace=True)\n",
    "\n",
    "    return merged_data\n"
   ]
  },
  {
   "cell_type": "code",
   "execution_count": 122,
   "id": "7491eea6",
   "metadata": {},
   "outputs": [
    {
     "name": "stderr",
     "output_type": "stream",
     "text": [
      "/var/folders/b8/rdg06f9d2dq8b5jy2qvvln500000gn/T/ipykernel_1672/3306132203.py:23: FutureWarning: A value is trying to be set on a copy of a DataFrame or Series through chained assignment using an inplace method.\n",
      "The behavior will change in pandas 3.0. This inplace method will never work because the intermediate object on which we are setting values always behaves as a copy.\n",
      "\n",
      "For example, when doing 'df[col].method(value, inplace=True)', try using 'df.method({col: value}, inplace=True)' or df[col] = df[col].method(value) instead, to perform the operation inplace on the original object.\n",
      "\n",
      "\n",
      "  merged_data[condition_col].fillna(\"SA\", inplace=True)\n"
     ]
    }
   ],
   "source": [
    "# BETA UNPROC\n",
    "beta_unp = process_pbrna_data(\n",
    "    pbrna_file_path='/Users/carlabatlle/Documents/practiques/data/unproc_pbrna_Beta.csv',\n",
    "    donor_file_path='/Users/carlabatlle/Documents/practiques/data/donor.csv'\n",
    ")"
   ]
  },
  {
   "cell_type": "code",
   "execution_count": 124,
   "id": "e760ebff",
   "metadata": {},
   "outputs": [
    {
     "name": "stderr",
     "output_type": "stream",
     "text": [
      "/var/folders/b8/rdg06f9d2dq8b5jy2qvvln500000gn/T/ipykernel_1672/3306132203.py:23: FutureWarning: A value is trying to be set on a copy of a DataFrame or Series through chained assignment using an inplace method.\n",
      "The behavior will change in pandas 3.0. This inplace method will never work because the intermediate object on which we are setting values always behaves as a copy.\n",
      "\n",
      "For example, when doing 'df[col].method(value, inplace=True)', try using 'df.method({col: value}, inplace=True)' or df[col] = df[col].method(value) instead, to perform the operation inplace on the original object.\n",
      "\n",
      "\n",
      "  merged_data[condition_col].fillna(\"SA\", inplace=True)\n"
     ]
    }
   ],
   "source": [
    "#ALPHA UNPROC\n",
    "alpha_unp = process_pbrna_data(\n",
    "    pbrna_file_path='/Users/carlabatlle/Documents/practiques/data/unproc_pbrna_Alpha.csv',\n",
    "    donor_file_path='/Users/carlabatlle/Documents/practiques/data/donor.csv'\n",
    ")"
   ]
  },
  {
   "cell_type": "code",
   "execution_count": 125,
   "id": "02919f8a",
   "metadata": {},
   "outputs": [
    {
     "name": "stderr",
     "output_type": "stream",
     "text": [
      "/var/folders/b8/rdg06f9d2dq8b5jy2qvvln500000gn/T/ipykernel_1672/3306132203.py:23: FutureWarning: A value is trying to be set on a copy of a DataFrame or Series through chained assignment using an inplace method.\n",
      "The behavior will change in pandas 3.0. This inplace method will never work because the intermediate object on which we are setting values always behaves as a copy.\n",
      "\n",
      "For example, when doing 'df[col].method(value, inplace=True)', try using 'df.method({col: value}, inplace=True)' or df[col] = df[col].method(value) instead, to perform the operation inplace on the original object.\n",
      "\n",
      "\n",
      "  merged_data[condition_col].fillna(\"SA\", inplace=True)\n"
     ]
    }
   ],
   "source": [
    "#RNAseq UNPROC\n",
    "RNAseq_unp = process_pbrna_data(\n",
    "    pbrna_file_path='/Users/carlabatlle/Documents/practiques/data/unproc_rnaseq.csv',\n",
    "    donor_file_path='/Users/carlabatlle/Documents/practiques/data/donor.csv'\n",
    ")"
   ]
  },
  {
   "cell_type": "code",
   "execution_count": 148,
   "id": "418041f0",
   "metadata": {},
   "outputs": [
    {
     "data": {
      "image/png": "[encoded data removed]",
      "text/plain": [
       "<Figure size 800x600 with 1 Axes>"
      ]
     },
     "metadata": {},
     "output_type": "display_data"
    },
    {
     "name": "stdout",
     "output_type": "stream",
     "text": [
      "[0.36529807 0.11290312]\n"
     ]
    }
   ],
   "source": [
    "# PCA RNAseq UNPROC\n",
    "\n",
    "rnaseq_unp_numeric = RNAseq_unp.drop(columns=[\"Condició\"])  \n",
    "scaler = StandardScaler()\n",
    "rnaseq_unp_scaled = scaler.fit_transform(rnaseq_unp_numeric)  \n",
    "\n",
    "\n",
    "pca = PCA(n_components=2)\n",
    "pca_result = pca.fit_transform(rnaseq_unp_scaled)\n",
    "\n",
    "# Create a DataFrame with PCA results\n",
    "pca_df = pd.DataFrame(pca_result, columns=[\"PC1\", \"PC2\"])\n",
    "pca_df[\"Condició\"] = RNAseq_unp[\"Condició\"].values  \n",
    "\n",
    "# Visualize the PCA results\n",
    "plt.figure(figsize=(8, 6))\n",
    "plt.scatter(pca_df[pca_df[\"Condició\"] == \"SA\"][\"PC1\"], pca_df[pca_df[\"Condició\"] == \"SA\"][\"PC2\"], label=\"SA\", color='blue', alpha=0.6)\n",
    "plt.scatter(pca_df[pca_df[\"Condició\"] == \"Type2\"][\"PC1\"], pca_df[pca_df[\"Condició\"] == \"Type2\"][\"PC2\"], label=\"Type2\", color='red', alpha=0.6)\n",
    "\n",
    "# Customize the plot\n",
    "plt.title(\"PCA of RNAseq Data\")\n",
    "plt.xlabel(\"PC1\")\n",
    "plt.ylabel(\"PC2\")\n",
    "plt.legend()\n",
    "plt.show()\n",
    "\n",
    "print(pca.explained_variance_ratio_)"
   ]
  },
  {
   "cell_type": "code",
   "execution_count": 152,
   "id": "fd1859f2",
   "metadata": {},
   "outputs": [],
   "source": [
    "def process_pbrna_data_proc(pbrna_file_path, donor_file_path, diagnosis_col=\"diagnosis\", condition_col=\"Condició\", default_condition=\"sa\"):\n",
    "\n",
    "    pbrna_beta_un = pd.read_csv(pbrna_file_path)\n",
    "    donor_data = pd.read_csv(donor_file_path)\n",
    "    \n",
    "    # Estableix 'feature_id' com a índex i transposa el DataFrame\n",
    "    pbrna_beta_un.set_index(\"gene_id\", inplace=True)\n",
    "    pbrna_beta_un_t = pbrna_beta_un.T\n",
    "    pbrna_beta_un_t.index.name = \"record_id\"\n",
    "\n",
    "    # Combina les dades amb la informació de diagnòstic\n",
    "    merged_data = pbrna_beta_un_t.merge(\n",
    "        donor_data[[\"record_id\", diagnosis_col]],  \n",
    "        on=\"record_id\",                           \n",
    "        how=\"left\"                                \n",
    "    )\n",
    "\n",
    "    merged_data.rename(columns={diagnosis_col: condition_col}, inplace=True)\n",
    "    merged_data[condition_col].fillna(\"SA\", inplace=True)\n",
    "    merged_data.set_index('record_id', inplace=True)\n",
    "\n",
    "    return merged_data"
   ]
  },
  {
   "cell_type": "code",
   "execution_count": 153,
   "id": "c2a766d3",
   "metadata": {},
   "outputs": [
    {
     "name": "stderr",
     "output_type": "stream",
     "text": [
      "/var/folders/b8/rdg06f9d2dq8b5jy2qvvln500000gn/T/ipykernel_1672/2143923770.py:19: FutureWarning: A value is trying to be set on a copy of a DataFrame or Series through chained assignment using an inplace method.\n",
      "The behavior will change in pandas 3.0. This inplace method will never work because the intermediate object on which we are setting values always behaves as a copy.\n",
      "\n",
      "For example, when doing 'df[col].method(value, inplace=True)', try using 'df.method({col: value}, inplace=True)' or df[col] = df[col].method(value) instead, to perform the operation inplace on the original object.\n",
      "\n",
      "\n",
      "  merged_data[condition_col].fillna(\"SA\", inplace=True)\n"
     ]
    }
   ],
   "source": [
    "#RNAseq PROC\n",
    "RNAseq_proc = process_pbrna_data_proc(\n",
    "    pbrna_file_path='/Users/carlabatlle/Documents/practiques/data/proc_rnaseq.csv',\n",
    "    donor_file_path='/Users/carlabatlle/Documents/practiques/data/donor.csv'\n",
    ")"
   ]
  },
  {
   "cell_type": "code",
   "execution_count": 170,
   "id": "9dff5b25",
   "metadata": {},
   "outputs": [
    {
     "data": {
      "text/plain": [
       "np.int64(149461)"
      ]
     },
     "execution_count": 170,
     "metadata": {},
     "output_type": "execute_result"
    }
   ],
   "source": [
    "missing_values_count = RNAseq_proc.isnull().sum().sum()\n",
    "missing_values_count\n"
   ]
  },
  {
   "cell_type": "code",
   "execution_count": null,
   "id": "4e55446c",
   "metadata": {},
   "outputs": [],
   "source": [
    "rnaseq_proc_scaled_clean = RNAseq_proc.dropna(axis=1) #eliminar missing values (columes)"
   ]
  },
  {
   "cell_type": "code",
   "execution_count": null,
   "id": "9bbebe8f",
   "metadata": {},
   "outputs": [
    {
     "data": {
      "text/plain": [
       "(117, 9444)"
      ]
     },
     "execution_count": 175,
     "metadata": {},
     "output_type": "execute_result"
    }
   ],
   "source": [
    "rnaseq_proc_scaled_clean.shape "
   ]
  },
  {
   "cell_type": "code",
   "execution_count": 178,
   "id": "82a87d27",
   "metadata": {},
   "outputs": [
    {
     "data": {
      "image/png": "[encoded data removed]",
      "text/plain": [
       "<Figure size 800x600 with 1 Axes>"
      ]
     },
     "metadata": {},
     "output_type": "display_data"
    },
    {
     "name": "stdout",
     "output_type": "stream",
     "text": [
      "[0.24378588 0.11314326]\n"
     ]
    }
   ],
   "source": [
    "#PCA RNAseq PROC\n",
    "# PCA RNAseq UNPROC\n",
    "\n",
    "rnaseq_unp_numeric = rnaseq_proc_scaled_clean.drop(columns=[\"Condició\"])  \n",
    "scaler = StandardScaler()\n",
    "rnaseq_unp_scaled = scaler.fit_transform(rnaseq_unp_numeric)  \n",
    "\n",
    "\n",
    "pca = PCA(n_components=2)\n",
    "pca_result = pca.fit_transform(rnaseq_unp_scaled)\n",
    "\n",
    "# Create a DataFrame with PCA results\n",
    "pca_df = pd.DataFrame(pca_result, columns=[\"PC1\", \"PC2\"])\n",
    "pca_df[\"Condició\"] = rnaseq_proc_scaled_clean[\"Condició\"].values  \n",
    "\n",
    "# Visualize the PCA results\n",
    "plt.figure(figsize=(8, 6))\n",
    "plt.scatter(pca_df[pca_df[\"Condició\"] == \"SA\"][\"PC1\"], pca_df[pca_df[\"Condició\"] == \"SA\"][\"PC2\"], label=\"SA\", color='blue', alpha=0.6)\n",
    "plt.scatter(pca_df[pca_df[\"Condició\"] == \"Type2\"][\"PC1\"], pca_df[pca_df[\"Condició\"] == \"Type2\"][\"PC2\"], label=\"Type2\", color='red', alpha=0.6)\n",
    "\n",
    "# Customize the plot\n",
    "plt.title(\"PCA of RNAseq Data\")\n",
    "plt.xlabel(\"PC1\")\n",
    "plt.ylabel(\"PC2\")\n",
    "plt.legend()\n",
    "plt.show()\n",
    "\n",
    "print(pca.explained_variance_ratio_)\n",
    "\n"
   ]
  }
 ],
 "metadata": {
  "kernelspec": {
   "display_name": "Python 3",
   "language": "python",
   "name": "python3"
  },
  "language_info": {
   "codemirror_mode": {
    "name": "ipython",
    "version": 3
   },
   "file_extension": ".py",
   "mimetype": "text/x-python",
   "name": "python",
   "nbconvert_exporter": "python",
   "pygments_lexer": "ipython3",
   "version": "3.10.7"
  }
 },
 "nbformat": 4,
 "nbformat_minor": 5
}
